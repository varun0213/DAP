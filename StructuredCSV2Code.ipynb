{
 "cells": [
  {
   "cell_type": "code",
   "execution_count": null,
   "metadata": {},
   "outputs": [],
   "source": [
    "import matplotlib.pyplot as plt\n",
    "import seaborn as sns\n",
    "from sklearn.model_selection import train_test_split\n",
    "from sklearn.linear_model import LinearRegression\n",
    "from sklearn.metrics import mean_squared_error, r2_score\n",
    "from dagster import job, op\n",
    "import pandas as pd\n",
    "from pymongo import MongoClient"
   ]
  },
  {
   "cell_type": "code",
   "execution_count": null,
   "metadata": {},
   "outputs": [],
   "source": [
    "data = pd.read_csv(\"C:/Users/varun/Desktop/DAP/books_scraped.csv\")\n",
    "data.head()"
   ]
  },
  {
   "cell_type": "code",
   "execution_count": null,
   "metadata": {},
   "outputs": [],
   "source": [
    "data = data[(data['Book_category'] != 'Default')]\n",
    "data = data[(data['Book_category'] != 'Add a comment')]"
   ]
  },
  {
   "cell_type": "code",
   "execution_count": null,
   "metadata": {},
   "outputs": [],
   "source": [
    "top_categories = data['Book_category'].value_counts().head(10)"
   ]
  },
  {
   "cell_type": "code",
   "execution_count": null,
   "metadata": {},
   "outputs": [],
   "source": [
    "sns.set(style=\"whitegrid\")\n",
    "\n",
    "plt.figure(figsize=(12, 8))\n",
    "ax = sns.barplot(x=top_categories.index, y=top_categories.values, color='skyblue')\n",
    "\n",
    "for p in ax.patches:\n",
    "    ax.annotate(int(p.get_height()), (p.get_x() + p.get_width() / 2., p.get_height()),\n",
    "                ha='center', va='center', xytext=(0, 10), textcoords='offset points')\n",
    "\n",
    "plt.title('Most rated categories')\n",
    "plt.xlabel('Category')\n",
    "plt.ylabel('Numberof 5* ratings')\n",
    "\n",
    "plt.xticks(rotation=45, ha='right')\n",
    "\n",
    "plt.show()"
   ]
  },
  {
   "cell_type": "code",
   "execution_count": null,
   "metadata": {},
   "outputs": [],
   "source": [
    "category_counts = data.groupby('Book_category')['Quantity'].count().reset_index()\n",
    "\n",
    "category_counts.columns = ['Book_Category', 'Quantity_Title_Book_Category_Count']\n",
    "\n",
    "top_categories = category_counts.nlargest(14, 'Quantity_Title_Book_Category_Count')\n",
    "\n",
    "other_category = pd.DataFrame({'Book_Category': ['Other'],\n",
    "                               'Quantity_Title_Book_Category_Count': [category_counts['Quantity_Title_Book_Category_Count'].sum() - top_categories['Quantity_Title_Book_Category_Count'].sum()]})\n",
    "\n",
    "combined_categories = pd.concat([top_categories, other_category])\n",
    "\n",
    "sns.set(style=\"whitegrid\")\n",
    "plt.figure(figsize=(10, 8))\n",
    "\n",
    "colors = sns.color_palette(\"Set3\", n_colors=len(combined_categories))\n",
    "\n",
    "plt.pie(combined_categories['Quantity_Title_Book_Category_Count'], labels=None, autopct='%1.1f%%', startangle=90, pctdistance=0.85, labeldistance=1.05, colors=colors)\n",
    "\n",
    "plt.title('Number of books by category in stock')\n",
    "\n",
    "plt.legend(labels=combined_categories['Book_Category'], loc='center left', bbox_to_anchor=(1, 0.5), title='Категорії')\n",
    "\n",
    "plt.show()"
   ]
  },
  {
   "cell_type": "code",
   "execution_count": null,
   "metadata": {},
   "outputs": [],
   "source": [
    "books_df = pd.read_csv('books_scraped.csv')\n"
   ]
  },
  {
   "cell_type": "code",
   "execution_count": null,
   "metadata": {},
   "outputs": [],
   "source": [
    "# Connect to MongoDB\n",
    "client = MongoClient(\"mongodb://localhost:27017/\")\n",
    "db = client[\"books_data\"]\n",
    "collection = db[\"books\"]"
   ]
  },
  {
   "cell_type": "code",
   "execution_count": null,
   "metadata": {},
   "outputs": [],
   "source": [
    "print(books_df.dtypes)"
   ]
  },
  {
   "cell_type": "code",
   "execution_count": null,
   "metadata": {},
   "outputs": [],
   "source": [
    "# Insert data into MongoDB\n",
    "collection.insert_many(books_df.to_dict('records'))"
   ]
  },
  {
   "cell_type": "code",
   "execution_count": 2,
   "metadata": {},
   "outputs": [],
   "source": [
    "from dagster import op\n",
    "import psycopg2\n",
    "import pandas as pd\n",
    " \n",
    "@op\n",
    "def load_into_postgres(context, data):\n",
    "    host = \"localhost\"\n",
    "    port = \"5423\"\n",
    "    database_name = \"Books_scrapped.csv\"\n",
    "    username = \"postgres\"\n",
    "    password = \"Varun@2001\"\n",
    " \n",
    "    # Connect to PostgreSQL\n",
    "    conn = psycopg2.connect(dbname=postgres, user=postgres, password=Varun@2001, host=localhost)\n",
    "    cur = conn.cursor()\n",
    " \n",
    "    # Create the table\n",
    "    cur.execute(\"\"\"\n",
    "    CREATE TABLE IF NOT EXISTS books (\n",
    "        id SERIAL PRIMARY KEY,\n",
    "        title VARCHAR(255),\n",
    "        book_category VARCHAR(100),\n",
    "        star_rating VARCHAR(10),\n",
    "        price FLOAT,\n",
    "        stock VARCHAR(20),\n",
    "        quantity INT\n",
    "    )\n",
    "    \"\"\")\n",
    "    conn.commit()\n",
    " \n",
    "    # Insert data into the table\n",
    "    insert_query = \"\"\"\n",
    "    INSERT INTO books (title, book_category, star_rating, price, stock, quantity) \n",
    "    VALUES (%s, %s, %s, %s, %s, %s)\n",
    "    \"\"\"\n",
    "    for record in data:\n",
    "        cur.execute(insert_query, (record['Title'], record['Book_category'], record['Star_rating'], \n",
    "                                   record['Price'], record['Stock'], record['Quantity']))\n",
    "        #conn.commit()\n",
    " \n",
    "    conn.commit()"
   ]
  },
  {
   "cell_type": "code",
   "execution_count": 3,
   "metadata": {},
   "outputs": [],
   "source": [
    "# testing\n",
    "# record['Title']\n",
    "# (books_df.iloc[0])['Title']"
   ]
  },
  {
   "cell_type": "code",
   "execution_count": 4,
   "metadata": {},
   "outputs": [],
   "source": [
    "host = \"localhost\"\n",
    "port = \"5423\"\n",
    "database_name = \"Books_scrapped\"\n",
    "username = \"postgres\"\n",
    "password = \"Varun@2001\"\n",
    "\n",
    "conn = psycopg2.connect(\n",
    "    host=host,\n",
    "    database=database_name,\n",
    "    user=username,\n",
    "    password=password\n",
    ")\n",
    "\n",
    "conn.commit()"
   ]
  },
  {
   "cell_type": "code",
   "execution_count": null,
   "metadata": {},
   "outputs": [],
   "source": [
    "cur = conn.cursor()\n",
    "cur.execute(\"\"\"\n",
    "    CREATE TABLE IF NOT EXISTS books_2 (\n",
    "        id SERIAL PRIMARY KEY,\n",
    "        title VARCHAR(255),\n",
    "        book_category VARCHAR(100),\n",
    "        star_rating VARCHAR(10),\n",
    "        price double precision,\n",
    "        stock VARCHAR(20),\n",
    "        quantity INT\n",
    "    )\n",
    "    \"\"\")\n",
    "conn.commit()"
   ]
  },
  {
   "cell_type": "code",
   "execution_count": null,
   "metadata": {},
   "outputs": [],
   "source": [
    "this_is_the_Query_we_want_to_execute = \"\"\"\n",
    "    INSERT INTO books (title, book_category, star_rating, price, stock, quantity) \n",
    "    VALUES (%s, %s, %s, %s, %s, %s)\n",
    "    \"\"\""
   ]
  },
  {
   "cell_type": "code",
   "execution_count": null,
   "metadata": {},
   "outputs": [],
   "source": [
    "\n",
    "cur.execute(\n",
    "    this_is_the_Query_we_want_to_execute,\n",
    "    (\n",
    "        (books_df.iloc[0])['Title'], \n",
    "        (books_df.iloc[0])['Book_category'], \n",
    "        (books_df.iloc[0])['Star_rating'],\n",
    "        (books_df.iloc[0])['Price'], \n",
    "        (books_df.iloc[0])['Stock'], \n",
    "        (books_df.iloc[0])['Quantity']\n",
    "    )\n",
    ")\n",
    "conn.commit()"
   ]
  },
  {
   "cell_type": "code",
   "execution_count": null,
   "metadata": {},
   "outputs": [],
   "source": [
    "cur.execute(\n",
    "    this_is_the_Query_we_want_to_execute,\n",
    "    (\n",
    "        '(books_df.iloc[0])', \n",
    "        '(books_df.iloc[0])', \n",
    "        '(books_df.iloc[0])',\n",
    "        123.12, \n",
    "        '(books_df.iloc[0])', \n",
    "        12\n",
    "    )\n",
    ")\n",
    "conn.commit()"
   ]
  },
  {
   "cell_type": "code",
   "execution_count": null,
   "metadata": {},
   "outputs": [],
   "source": []
  },
  {
   "cell_type": "code",
   "execution_count": 5,
   "metadata": {},
   "outputs": [],
   "source": [
    "cur = conn.cursor()\n",
    "cur.execute(\"\"\"\n",
    "    CREATE TABLE IF NOT EXISTS books_123 (\n",
    "        id SERIAL PRIMARY KEY,\n",
    "        title VARCHAR(255)\n",
    "    )\n",
    "    \"\"\")\n",
    "conn.commit()"
   ]
  },
  {
   "cell_type": "code",
   "execution_count": 28,
   "metadata": {},
   "outputs": [],
   "source": [
    "qUERY_2 = \"\"\"\n",
    "    INSERT INTO books (title, Book_category, Star_rating, Price,Stock,Quantity  ) \n",
    "    VALUES (%s,%s,%s,%s,%s,%s)\n",
    "    \"\"\""
   ]
  },
  {
   "cell_type": "code",
   "execution_count": 29,
   "metadata": {},
   "outputs": [],
   "source": [
    "cur.execute(\n",
    "    qUERY_2,\n",
    "    \n",
    "        (\"Hello\",\"Hello\",\"Hello\",123.1,\"Hello\",123)\n",
    "    \n",
    ")\n",
    "conn.commit()"
   ]
  },
  {
   "cell_type": "code",
   "execution_count": null,
   "metadata": {},
   "outputs": [],
   "source": []
  }
 ],
 "metadata": {
  "kernelspec": {
   "display_name": "Python 3 (ipykernel)",
   "language": "python",
   "name": "python3"
  },
  "language_info": {
   "codemirror_mode": {
    "name": "ipython",
    "version": 3
   },
   "file_extension": ".py",
   "mimetype": "text/x-python",
   "name": "python",
   "nbconvert_exporter": "python",
   "pygments_lexer": "ipython3",
   "version": "3.9.12"
  }
 },
 "nbformat": 4,
 "nbformat_minor": 2
}
