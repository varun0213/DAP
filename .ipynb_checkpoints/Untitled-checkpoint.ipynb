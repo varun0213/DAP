{
 "cells": [
  {
   "cell_type": "code",
   "execution_count": 1,
   "id": "4a3cf7b6",
   "metadata": {},
   "outputs": [
    {
     "ename": "ImportError",
     "evalue": "cannot import name 'mongoclient' from 'pymongo' (C:\\Users\\varun\\anaconda3\\lib\\site-packages\\pymongo\\__init__.py)",
     "output_type": "error",
     "traceback": [
      "\u001b[1;31m---------------------------------------------------------------------------\u001b[0m",
      "\u001b[1;31mImportError\u001b[0m                               Traceback (most recent call last)",
      "Input \u001b[1;32mIn [1]\u001b[0m, in \u001b[0;36m<cell line: 7>\u001b[1;34m()\u001b[0m\n\u001b[0;32m      5\u001b[0m \u001b[38;5;28;01mfrom\u001b[39;00m \u001b[38;5;21;01msklearn\u001b[39;00m\u001b[38;5;21;01m.\u001b[39;00m\u001b[38;5;21;01mlinear_model\u001b[39;00m \u001b[38;5;28;01mimport\u001b[39;00m LinearRegression\n\u001b[0;32m      6\u001b[0m \u001b[38;5;28;01mfrom\u001b[39;00m \u001b[38;5;21;01msklearn\u001b[39;00m\u001b[38;5;21;01m.\u001b[39;00m\u001b[38;5;21;01mmetrics\u001b[39;00m \u001b[38;5;28;01mimport\u001b[39;00m mean_squared_error, r2_score\n\u001b[1;32m----> 7\u001b[0m \u001b[38;5;28;01mfrom\u001b[39;00m \u001b[38;5;21;01mpymongo\u001b[39;00m \u001b[38;5;28;01mimport\u001b[39;00m mongoclient\n",
      "\u001b[1;31mImportError\u001b[0m: cannot import name 'mongoclient' from 'pymongo' (C:\\Users\\varun\\anaconda3\\lib\\site-packages\\pymongo\\__init__.py)"
     ]
    }
   ],
   "source": [
    "import pandas as pd \n",
    "import matplotlib.pyplot as plt\n",
    "import seaborn as sns\n",
    "from sklearn.model_selection import train_test_split\n",
    "from sklearn.linear_model import LinearRegression\n",
    "from sklearn.metrics import mean_squared_error, r2_score\n",
    "from pymongo import mongoclient"
   ]
  },
  {
   "cell_type": "code",
   "execution_count": null,
   "id": "a4edbaaa",
   "metadata": {},
   "outputs": [],
   "source": [
    "data = pd.read_csv(\"C:/Users/varun/Desktop/DAP/books_scraped.csv\")\n",
    "data.head()"
   ]
  },
  {
   "cell_type": "code",
   "execution_count": null,
   "id": "60454edf",
   "metadata": {},
   "outputs": [],
   "source": [
    "data = data[(data['Book_category'] != 'Default')]\n",
    "data = data[(data['Book_category'] != 'Add a comment')]"
   ]
  },
  {
   "cell_type": "code",
   "execution_count": null,
   "id": "8ce7700c",
   "metadata": {},
   "outputs": [],
   "source": [
    "top_categories = data['Book_category'].value_counts().head(10)"
   ]
  },
  {
   "cell_type": "code",
   "execution_count": null,
   "id": "2c374eb2",
   "metadata": {},
   "outputs": [],
   "source": [
    "sns.set(style=\"whitegrid\")\n",
    "\n",
    "plt.figure(figsize=(12, 8))\n",
    "ax = sns.barplot(x=top_categories.index, y=top_categories.values, color='skyblue')\n",
    "\n",
    "for p in ax.patches:\n",
    "    ax.annotate(int(p.get_height()), (p.get_x() + p.get_width() / 2., p.get_height()),\n",
    "                ha='center', va='center', xytext=(0, 10), textcoords='offset points')\n",
    "\n",
    "plt.title('Most rated categories')\n",
    "plt.xlabel('Category')\n",
    "plt.ylabel('Numberof 5* ratings')\n",
    "\n",
    "plt.xticks(rotation=45, ha='right')\n",
    "\n",
    "plt.show()"
   ]
  },
  {
   "cell_type": "code",
   "execution_count": null,
   "id": "7f711fe5",
   "metadata": {},
   "outputs": [],
   "source": [
    "category_counts = data.groupby('Book_category')['Quantity'].count().reset_index()\n",
    "\n",
    "category_counts.columns = ['Book_Category', 'Quantity_Title_Book_Category_Count']\n",
    "\n",
    "top_categories = category_counts.nlargest(14, 'Quantity_Title_Book_Category_Count')\n",
    "\n",
    "other_category = pd.DataFrame({'Book_Category': ['Other'],\n",
    "                               'Quantity_Title_Book_Category_Count': [category_counts['Quantity_Title_Book_Category_Count'].sum() - top_categories['Quantity_Title_Book_Category_Count'].sum()]})\n",
    "\n",
    "combined_categories = pd.concat([top_categories, other_category])\n",
    "\n",
    "sns.set(style=\"whitegrid\")\n",
    "plt.figure(figsize=(10, 8))\n",
    "\n",
    "colors = sns.color_palette(\"Set3\", n_colors=len(combined_categories))\n",
    "\n",
    "plt.pie(combined_categories['Quantity_Title_Book_Category_Count'], labels=None, autopct='%1.1f%%', startangle=90, pctdistance=0.85, labeldistance=1.05, colors=colors)\n",
    "\n",
    "plt.title('Number of books by category in stock')\n",
    "\n",
    "plt.legend(labels=combined_categories['Book_Category'], loc='center left', bbox_to_anchor=(1, 0.5), title='Категорії')\n",
    "\n",
    "plt.show()"
   ]
  },
  {
   "cell_type": "code",
   "execution_count": null,
   "id": "0b1106d8",
   "metadata": {},
   "outputs": [],
   "source": [
    "import pymongo\n",
    "try:\n",
    "    client = MongoClient(\"mongodb://localhost:27017\")\n",
    "    print(\"connected\")\n",
    "except Exception as e:\n",
    "    print(\"Not Connected\", e)\n"
   ]
  },
  {
   "cell_type": "code",
   "execution_count": null,
   "id": "cb865ca0",
   "metadata": {},
   "outputs": [],
   "source": [
    "client = MongoClient('mongodb://localhost:27017')\n",
    "mongo_db = client"
   ]
  },
  {
   "cell_type": "code",
   "execution_count": null,
   "id": "482aac85",
   "metadata": {},
   "outputs": [],
   "source": []
  }
 ],
 "metadata": {
  "kernelspec": {
   "display_name": "Python 3 (ipykernel)",
   "language": "python",
   "name": "python3"
  },
  "language_info": {
   "codemirror_mode": {
    "name": "ipython",
    "version": 3
   },
   "file_extension": ".py",
   "mimetype": "text/x-python",
   "name": "python",
   "nbconvert_exporter": "python",
   "pygments_lexer": "ipython3",
   "version": "3.9.12"
  }
 },
 "nbformat": 4,
 "nbformat_minor": 5
}
