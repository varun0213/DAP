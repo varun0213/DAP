{
 "cells": [
  {
   "cell_type": "code",
   "execution_count": null,
   "id": "ae4e2929",
   "metadata": {},
   "outputs": [],
   "source": [
    "mse = mean_squared_error(y_test, y_pred)\n",
    "r2 = r2_score(y_test, y_pred)\n",
    "\n",
    "print(f'Mean Squared Error: {mse}')\n",
    "print(f'R-squared: {r2}')"
   ]
  },
  {
   "cell_type": "code",
   "execution_count": null,
   "id": "a377ca07",
   "metadata": {},
   "outputs": [],
   "source": [
    "coefficients = model.coef_\n",
    "intercept = model.intercept_\n",
    "\n",
    "print(f'Coefficients: {coefficients}')\n",
    "print(f'Intercept: {intercept}')"
   ]
  },
  {
   "cell_type": "code",
   "execution_count": null,
   "id": "52bf01d7",
   "metadata": {},
   "outputs": [],
   "source": [
    "# Assuming 'residuals' is the variable containing the residuals\n",
    "plt.hist(residuals, bins=30, edgecolor='black')  # You can adjust the number of bins as needed\n",
    "plt.xlabel(\"Residuals\")\n",
    "plt.ylabel(\"Frequency\")\n",
    "plt.title(\"Histogram of Residuals\")\n",
    "plt.show()"
   ]
  },
  {
   "cell_type": "code",
   "execution_count": null,
   "id": "d6b073cf",
   "metadata": {},
   "outputs": [],
   "source": [
    "plt.boxplot(residuals)\n",
    "plt.xlabel(\"Residuals\")\n",
    "plt.ylabel(\"Values\")\n",
    "plt.title(\"Boxplot of Residuals\")\n",
    "plt.show()"
   ]
  },
  {
   "cell_type": "code",
   "execution_count": null,
   "id": "1cf651e3",
   "metadata": {},
   "outputs": [],
   "source": [
    "# Reading the dataset file.\n",
    "df = pd.read_csv('books_scraped.csv')"
   ]
  },
  {
   "cell_type": "code",
   "execution_count": null,
   "id": "e31bc676",
   "metadata": {},
   "outputs": [],
   "source": [
    "# Putting x as independent variable and y as target\n",
    "X = df[['Star_rating', 'Quantity', 'Book_category']]\n",
    "y = df['Price']"
   ]
  },
  {
   "cell_type": "code",
   "execution_count": null,
   "id": "ae27c686",
   "metadata": {},
   "outputs": [],
   "source": [
    "#import pandas as pd\n",
    "\n",
    "#df[\"Star_rating\"]= pd.to_numeric(df[\"Star_rating\"] , errors='coerce')\n",
    "\n",
    "# Assuming 'your_column' is the column you want to convert\n",
    "#df['Star_rating'] = df['Star_rating'].astype(int)\n",
    "\n",
    "import pandas as pd\n",
    "\n",
    "# Assuming 'your_column' is the column you want to convert\n",
    "df['Star_rating'] = pd.to_numeric(df['Star_rating'], errors='coerce')\n",
    "df['Star_rating'] = df['Star_rating'].astype('Int64')\n"
   ]
  }
 ],
 "metadata": {
  "kernelspec": {
   "display_name": "Python 3 (ipykernel)",
   "language": "python",
   "name": "python3"
  },
  "language_info": {
   "codemirror_mode": {
    "name": "ipython",
    "version": 3
   },
   "file_extension": ".py",
   "mimetype": "text/x-python",
   "name": "python",
   "nbconvert_exporter": "python",
   "pygments_lexer": "ipython3",
   "version": "3.9.12"
  }
 },
 "nbformat": 4,
 "nbformat_minor": 5
}
